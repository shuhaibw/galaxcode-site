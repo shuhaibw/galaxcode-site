{
 "cells": [
  {
   "cell_type": "markdown",
   "metadata": {},
   "source": [
    "# Vector Search using vCore-based Azure Cosmos DB for MongoDB\n",
    "\n",
    "This notebook demonstrates using an Azure OpenAI embedding model to vectorize documents already stored in Azure Cosmos DB API for MongoDB, storing the embedding vectors and the creation of a vector index. Lastly, the notebook will demonstrate how to query the vector index to find similar documents.\n",
    "\n",
    "This lab expects the data that was loaded in Lab 2."
   ]
  },
  {
   "cell_type": "code",
   "execution_count": 1,
   "metadata": {},
   "outputs": [],
   "source": [
    "import os\n",
    "import pymongo\n",
    "import time\n",
    "import json\n",
    "from openai import AzureOpenAI\n",
    "from dotenv import load_dotenv\n",
    "from tenacity import retry, wait_random_exponential, stop_after_attempt"
   ]
  },
  {
   "cell_type": "markdown",
   "metadata": {},
   "source": [
    "## Load settings\n",
    "\n",
    "This lab expects the `.env` file that was created in Lab 1 to obtain the connection string for the database.\n",
    "\n",
    "Add the following entries into the `.env` file to support the connection to Azure OpenAI API, replacing the values for `<your key>` and `<your endpoint>` with the values from your Azure OpenAI API resource.\n",
    "\n",
    "```text\n",
    "AOAI_ENDPOINT=\"<your endpoint>\"\n",
    "AOAI_KEY=\"<your key>\"\"\n",
    "```"
   ]
  },
  {
   "cell_type": "code",
   "execution_count": 2,
   "metadata": {},
   "outputs": [],
   "source": [
    "load_dotenv()\n",
    "CONNECTION_STRING = os.environ.get(\"DB_CONNECTION_STRING\")\n",
    "EMBEDDINGS_DEPLOYMENT_NAME = \"text-embedding-ada-002\"\n",
    "COMPLETIONS_DEPLOYMENT_NAME = \"gpt-35-turbo\"\n",
    "AOAI_ENDPOINT = os.environ.get(\"AOAI_ENDPOINT\")\n",
    "AOAI_KEY = os.environ.get(\"AOAI_KEY\")\n",
    "AOAI_API_VERSION = \"2023-05-15\""
   ]
  },
  {
   "cell_type": "code",
   "execution_count": null,
   "metadata": {},
   "outputs": [],
   "source": []
  },
  {
   "cell_type": "markdown",
   "metadata": {},
   "source": [
    "## Establish connectivity to the database"
   ]
  },
  {
   "cell_type": "code",
   "execution_count": 3,
   "metadata": {},
   "outputs": [],
   "source": [
    "db_client = pymongo.MongoClient(CONNECTION_STRING)\n",
    "# Create database to hold cosmic works data\n",
    "# MongoDB will create the database if it does not exist\n",
    "db = db_client.cosmic_works"
   ]
  },
  {
   "cell_type": "markdown",
   "metadata": {},
   "source": [
    "## Establish Azure OpenAI connectivity"
   ]
  },
  {
   "cell_type": "code",
   "execution_count": 4,
   "metadata": {},
   "outputs": [],
   "source": [
    "ai_client = AzureOpenAI(\n",
    "    azure_endpoint = AOAI_ENDPOINT,\n",
    "    api_version = AOAI_API_VERSION,\n",
    "    api_key = AOAI_KEY\n",
    "    )"
   ]
  },
  {
   "cell_type": "markdown",
   "metadata": {},
   "source": [
    "## Vectorize and store the embeddings in each document\n",
    "\n",
    "The process of creating a vector embedding field on each document only needs to be done once. However, if a document changes, the vector embedding field will need to be updated with an updated vector."
   ]
  },
  {
   "cell_type": "code",
   "execution_count": 5,
   "metadata": {},
   "outputs": [],
   "source": [
    "@retry(wait=wait_random_exponential(min=1, max=20), stop=stop_after_attempt(3))\n",
    "def generate_embeddings(text: str):\n",
    "    '''\n",
    "    Generate embeddings from string of text using the deployed Azure OpenAI API embeddings model.\n",
    "    This will be used to vectorize document data and incoming user messages for a similarity search with\n",
    "    the vector index.\n",
    "    '''\n",
    "    response = ai_client.embeddings.create(input=text, model=EMBEDDINGS_DEPLOYMENT_NAME)\n",
    "    embeddings = response.data[0].embedding\n",
    "    time.sleep(0.5) # rest period to avoid rate limiting on AOAI\n",
    "    return embeddings"
   ]
  },
  {
   "cell_type": "code",
   "execution_count": 6,
   "metadata": {},
   "outputs": [
    {
     "name": "stdout",
     "output_type": "stream",
     "text": [
      "[-0.016783414, -0.006727666, -0.027430676, -0.046463147, -0.01095277, 0.01014025, -0.013910343, -0.0048393696, -0.018681461, -0.0283667, 0.028990716, 0.019799488, -0.021710536, -0.006327906, 0.009522735, 0.0066171633, 0.017589433, -0.014456357, 0.011784791, 0.018460454, -0.012330804, -1.1311802e-05, 0.009295229, -0.009893244, -0.009581236, -0.016315402, 0.006864169, -0.016874416, 0.024388602, -0.037882935, 0.00066789147, 0.0033865834, -0.016081396, -0.0064254086, 0.011115274, -0.011895293, 0.00094739837, -0.02756068, 0.02917272, -0.01138828, 0.0024960616, -0.0070396736, 0.0040821005, -0.013715338, -0.032708805, 0.012623311, 0.008768716, -0.015080372, 0.0042706053, 0.02269856, 0.021606533, 0.0015787265, -0.024401601, -0.0019939241, -0.013097823, 0.008671214, -0.035360873, 0.014703362, 0.019994494, -0.020579508, 0.01582139, 0.0038155941, -0.025324624, 0.0121748, -0.010153251, 0.010328755, 0.015990395, 0.008632213, -0.019539481, 0.01458636, 0.020735512, 0.018993469, -0.0054146335, -0.0077156904, 0.021814538, -0.0006662664, -0.012525809, -0.00022547432, -0.0015307878, -0.00052245037, 0.037830934, -0.03598489, -0.0034548352, 0.011186776, 0.014495358, 0.01580839, -0.003324832, 0.017511431, -0.01575639, -0.01498937, -0.004491611, 0.0022994317, 0.018616458, 0.013923343, -0.029562728, 0.013858342, 0.008762216, 0.027092667, 0.0029868237, -0.04167903, -0.017095422, -0.0071111755, -0.0048848703, -0.011316779, -0.02470061, -0.012421806, -0.0005842019, 0.0033102066, 0.023062568, 0.0073971823, -0.014547359, 0.021658534, -0.006123151, -0.023972591, -0.008950721, -0.0059248963, -0.015912393, -0.004303106, -0.011856292, -0.015236376, 0.015600385, 0.024453603, 0.017238425, -0.02268556, 0.011687288, 0.0026244398, -0.045215115, -0.01419635, -0.0020849265, -0.01744643, 0.03078476, -0.0030713258, 0.017303428, -0.0057363915, -0.029822735, 0.010608261, -0.011043772, 0.010478258, -0.022932565, -0.01743343, 0.0020589258, 0.027118668, 0.016549408, 0.0053268815, -0.012610311, 0.011284279, 0.023998592, -0.009191227, 0.015119373, -0.002955948, 0.006155652, 0.0077676917, 7.180646e-05, 0.00446236, 0.00973074, 0.029016716, -0.008872719, 0.021853538, -0.0005772955, -0.015717387, 0.005135127, -0.009366731, 0.0040008486, -0.020956516, 0.011485783, 0.03530887, 0.011901794, 0.0057071405, -0.009308229, -0.024505604, -0.010062248, 0.005950897, -0.030264746, 0.025324624, -0.006968172, 0.0002728036, 0.009841243, 0.01904547, -0.017173424, -0.021008518, -0.027144669, 0.025025617, 0.00041458834, 0.037154917, 0.00566164, 0.008833718, 0.020813514, -0.011602786, -0.0059248963, -0.018551458, 0.0006463597, 0.03398284, 0.02275056, 0.010354755, -0.689745, -0.014417356, 0.030160744, 0.022035543, 0.0043973583, 0.016471406, 0.011979795, 0.026598657, -0.0028226946, 0.02109952, -0.01458636, 0.021853538, -0.001117215, -0.009639738, 0.0035588378, -0.01137528, 0.008151201, -0.025662633, -0.011056772, 0.022074545, -0.016523408, 0.02997874, -0.017966444, -0.007052674, -0.0019321727, 0.0018752962, 0.005183878, -0.020189498, -0.015639385, 0.037362922, -0.019162472, 0.017173424, 0.013429332, -0.004624864, 0.048179187, 0.020033494, -0.0070396736, 0.0065879123, 0.0153013775, 0.040326994, -0.02190554, -0.025805637, 0.0027511928, -0.0073321806, 0.011095773, 0.0044363593, -0.0002768662, -0.012896318, -0.011557285, 0.0023628082, 0.027144669, -0.008320205, 0.018824464, 0.012434807, 0.0041276016, -0.0025854388, 0.012109798, 0.0017550433, -0.0006760167, 0.02068351, -0.0018687961, 0.019565482, 0.004618364, 0.0017680436, -0.018915467, 0.013767339, -0.015548384, -0.0033768334, 0.0020719261, -0.0162374, 0.0035360872, 0.0027349424, -0.021255525, -0.018343452, 0.019812489, 0.03975498, 0.00892472, -0.013338329, -0.0058468943, 0.026832663, 0.022022543, 0.0037083414, -0.013689337, -0.027456677, 0.01826545, -0.027144669, -0.030212745, -0.013858342, -0.003848095, -0.00019348133, 0.035828885, 0.013429332, -0.014456357, -0.034268845, 0.02312757, 0.01095277, -0.013123823, -0.005310631, 0.018031444, -0.00486537, -0.007208678, 0.00445586, 0.00095471105, -0.0037050913, 0.03078476, 0.0059021455, -0.0008100825, 0.038194943, 0.014014346, -0.016510407, -0.00063254684, 0.0046086134, -0.03127877, 0.0033930836, 0.013494333, -0.028678708, 0.007169677, 0.024973616, 0.01419635, -0.013149824, 0.025818637, -0.019552482, 0.021801537, 0.006201153, 0.004790618, 0.028652707, -0.014391355, -0.002314057, -0.012265802, -0.0071176756, 0.024206597, -0.00026711597, 0.014014346, -0.011362281, 0.00025066244, -0.00016991825, 0.007936696, -0.006132901, 0.011089274, 0.013201825, -0.01379334, -0.0005472322, -0.005105876, 0.0049726227, 0.01417035, -0.022802562, -0.005921646, 0.010985271, 0.014092348, 0.006760167, 0.017797438, -0.0153403785, -0.02104752, 0.024115594, -0.008859718, 0.00017753564, 0.003968348, -0.026780661, -0.02636465, -0.021944541, 0.008274704, 0.011908294, -0.014937368, 0.0031850785, 0.0028275698, -0.032994814, -0.026416652, 0.019539481, -0.0013772214, -0.035178866, 0.013832341, 0.0039845984, -0.011966795, -4.867503e-05, 0.00014148005, 0.024648609, -0.019188473, -0.011531284, -0.0067471666, -0.014950369, 0.004735367, -0.00527488, -0.011238777, 0.016159398, 0.021190522, 0.0024034344, 0.0085607115, 0.017888442, -0.014859366, -0.002273431, 0.010270254, 0.010627762, -0.018304452, -0.007852194, 0.0041958536, -0.018044446, -0.0036498401, -0.007975697, 0.007540186, 0.02109952, 0.037128914, 0.00022750562, 0.0325528, -0.027482677, -0.01137528, -0.03283881, 0.0011025897, -0.02277656, 0.0104132565, 0.02316657, 0.01579539, -0.00131872, 0.008008198, 0.011635287, 0.01944848, 0.04209504, -0.013117324, -0.006110151, -0.02225655, 0.0051806276, 0.012129299, 0.0027755685, -0.00893772, -0.0048101186, 0.011908294, 0.0283667, -0.0010497759, 0.04383708, 0.011804291, -0.02113852, -0.011271278, 0.01133628, 0.013598335, 0.016120398, -0.0016282902, -0.0047776178, 0.0041926033, -0.035828885, 0.034606855, -0.004013849, -0.010816267, 0.009646238, 0.035932887, -0.024427602, -0.006851169, 0.033488825, 0.011927794, -0.012291803, 0.0011090898, 0.031460777, -0.014755364, -0.0002579751, 0.0040723504, -0.0059736473, 0.026260648, -0.029666731, 0.013279827, -7.9271485e-05, 0.040535, 0.031538777, 0.026611656, 0.0074881846, 0.014105348, -0.013188825, 0.0034320846, -0.02395959, 0.0018054196, -0.0071891774, 3.9432613e-05, 0.007832693, -0.003688841, -0.00527488, 0.02307557, -0.030888762, 0.0031980788, -0.013689337, -0.0054536345, -0.01657541, -0.001559226, -0.0012301554, -0.0016689162, -0.024752611, 0.000779613, 0.010829267, -0.0047938684, -0.01983849, -0.038558953, -0.005632389, -0.00014168318, 0.002548063, -0.005635639, 0.011856292, 0.024947615, -0.025675634, 0.0061751525, 0.009015722, 0.025831638, 0.0046313643, 0.020644508, -0.01986449, 0.0076896898, 0.00069145457, 0.0014446606, -0.014287353, 0.00090839743, -0.0005659202, -0.010972271, -0.029406724, 0.008547711, -0.0092237275, -0.011511784, 0.010426257, -0.013429332, -0.0060743997, 0.00567789, -0.0033313322, 0.0060906503, 0.012525809, 0.03564688, 0.003406084, -0.001134278, -0.009685239, -0.022529555, -0.005963897, 0.06401358, -0.008840218, 0.0035035864, 0.009912744, -0.017407428, -0.0058468943, -0.027742684, -0.030264746, -0.013910343, -0.0156133855, -0.010387256, 0.0005813581, -0.0090872245, 0.007657189, 0.02601364, -0.00058745197, 0.012317804, -0.0044721104, -0.011524784, 0.016874416, 0.00034166468, -0.009860743, -0.013091323, 0.015444381, 0.025753636, -6.048196e-05, 0.01787544, 0.007923695, -0.013442332, -0.017602434, -0.0015112873, -0.004163353, 0.02722267, 0.0053593824, 0.0030632005, 0.033514827, 0.009269228, 0.018161448, 0.0047776178, -0.01826545, 0.007416683, 0.011966795, 0.0012659063, -0.011082773, 0.00486212, -0.00011304185, -0.0035133366, 0.025649633, -0.0033670831, -0.03489286, 0.041029014, 0.00081048877, -0.011498784, -0.0092042275, -0.018759463, 0.016484406, -0.00769619, -0.009100225, -0.015977394, -0.007969197, 0.0048361192, -0.020137496, -0.0054601347, -0.011479283, -0.024648609, -0.021593533, -0.02800269, 0.0062141535, -0.01743343, 0.004134102, -0.025311625, -0.027846687, -0.014664361, 0.0035490876, 0.025649633, 0.0061914027, -0.003731092, 0.002270181, 0.010244253, 0.012824817, -0.0042446046, -0.025259623, 0.003487336, -0.009873743, 0.0040235994, 0.006116651, 0.0004513549, 0.0002652878, -0.019812489, 0.025870638, 0.00933423, 0.014833366, 0.014456357, -0.0070396736, 0.022581557, -0.00047166788, 0.0081187, -0.006568412, -0.0025074368, -0.0042413548, 0.0034808358, -0.00567139, -0.001601477, -0.009919245, 0.0048036184, 0.0101207495, 0.017498432, 0.03361883, -0.023413578, -0.009542235, 0.038220942, -0.021203524, 0.015678387, -0.001745293, 0.0022084294, 0.01174579, 0.012031796, 0.04082101, -0.0013268453, -0.016861416, -0.0023156821, -0.024856614, -0.0019549232, 0.019032469, 0.019773487, 0.0044071088, -0.0008490834, -0.01701742, -0.01699142, -0.009834742, -0.007377682, 0.016042396, -0.002317307, -0.0243496, -0.016497407, -0.007384182, -0.008378707, 0.0071891774, -9.826414e-05, -0.016939418, -0.0161464, -0.01462536, 0.010926769, -0.00526838, -0.035906885, -0.039962985, -0.0008832093, -0.0031444526, 0.0022214297, 0.019669484, -0.007871694, -0.007657189, -0.019318476, -0.015860392, -0.002478186, -0.019331478, -0.0020248, -0.009652738, 0.030732758, 0.017537432, 0.026962666, 0.022152547, 0.004147102, 0.013442332, 0.002676441, -0.0025838136, -0.0021336777, 0.0038188442, -0.019760488, 0.0153793795, 0.025818637, 0.01498937, 0.0005013249, 0.01298732, -0.001865546, 0.0020313, -0.009093724, 0.010231253, -0.024609607, -0.01540538, -0.017888442, 0.0003079451, -0.0019321727, -0.0016900417, 0.0057136407, 0.008476209, 0.01378034, 0.020085495, 0.0202805, 0.004010599, 0.028470702, -0.023179572, 0.025675634, 0.0052098786, 0.015509383, -0.0047321166, -0.0019094221, -0.01138828, 0.018031444, 0.0055868877, 0.017212424, 0.018499456, -0.009893244, -0.0121683, -0.005313881, 0.026988667, -0.011498784, 0.0016047271, 0.00072395534, -0.01986449, -0.0088922195, -0.021593533, 0.0024505605, -0.013338329, -0.00025472502, -0.0036985911, -0.017225426, 0.011784791, -0.018590458, -0.030680757, -0.0121618, -0.0021970542, 0.037986938, 0.0054081334, 0.018044446, 0.005479635, -0.0045631127, -0.00972424, 0.0011578411, -0.013338329, -0.0019614233, 0.029510727, 0.0091652265, -0.014339354, -0.0031834536, -0.0012520934, 0.0022766811, -0.018564457, -0.021424528, -2.432482e-05, 0.018044446, 0.00010481509, -0.01419635, 0.0027284422, -0.03528287, 0.01943548, 0.0044656103, -0.013585335, -0.009659238, -0.00067642296, -0.02471361, 0.018395454, -0.037050914, 0.028938714, 0.008684214, -0.021645535, -0.00690317, 0.00067236036, -0.0071046753, 0.0016559159, -0.014157349, 0.020982517, -0.00849571, -0.0153793795, 0.023907589, 0.013234327, -0.02719667, 0.003607589, 0.00058338937, 0.014157349, -0.029718732, -0.00057973305, -0.0041893534, 0.003523087, 0.0071826773, 0.012356805, -0.0063441563, -0.01823945, 0.0032923312, 0.0063051553, 0.02800269, 0.00044891733, -0.00263419, -0.0059866477, -0.004101601, -0.030290747, -0.041887034, -5.560684e-05, -0.0003404459, -0.012662312, -0.009529235, -0.0018931717, 0.0026016892, 0.014742363, 0.019006468, -0.020566508, 0.010562761, 0.02997874, -0.022139546, -0.0048848703, 0.007215178, 0.005645389, -0.033774834, 0.012233302, -0.006246654, -0.018525457, 0.0076766894, -0.016224401, -0.0026211897, 0.012109798, 0.008755716, 0.0097892415, 0.008723215, -0.0052131284, 0.028132694, 0.026598657, 0.020462506, -0.01417035, -0.022438554, 0.04778918, -0.01336433, 0.0011984671, 0.0009287104, -0.013442332, 0.010660263, -0.0020833013, 0.001745293, 0.008742715, -0.036348898, -0.02594864, -0.00060979626, 0.0024375601, -0.0016396655, -0.018291451, -0.02516862, -0.01379334, -0.029848736, 0.015041371, 0.0009002722, -0.019071471, 0.00728668, 0.0071891774, 0.011797791, -0.012291803, -0.005765642, -0.01498937, -0.024050593, -0.008567211, -0.005141627, -0.018278452, -0.0034938361, 0.033046816, 0.016952418, -0.010640763, -0.0202805, -0.00038391573, -0.031122768, -0.024271598, -0.01012725, 0.012343804, 0.008898719, 0.006935671, 0.0060939, 0.01378034, 0.011050273, 0.016900416, -0.0049368716, -0.019656485, 0.02997874, -0.0019272976, 0.017940443, 0.009919245, -0.02917272, -0.0032208294, 0.012603811, 0.0057428917, -0.0053041307, 0.01379334, 0.0035913386, -0.004634614, -0.0062076533, -0.010361255, -0.0072606793, 0.011258278, 0.012363305, -0.020969518, -0.004013849, -0.0062564043, -0.0010700889, -0.0033670831, -0.010894269, 0.0039228466, -0.01336433, 0.016705412, -0.013013321, -0.0011188401, 0.00041926035, -0.020085495, 0.02353058, -0.03161678, 0.016705412, 0.025077619, -0.009158726, 0.010283254, -0.004247855, -0.0069226706, -0.0090482235, 0.009561736, -0.0018444204, -0.0063051553, -0.0051643774, 0.0022425554, -0.007949696, -0.027924689, 0.009698239, -0.030134743, -0.003688841, 0.003692091, 0.019565482, 0.019604484, -0.022061544, -0.01705642, -0.008664714, 0.009587737, 0.0006496098, -0.012291803, 0.0018037945, -0.0100427475, -0.0010270253, 0.022269549, -0.01739443, -0.012772815, 0.0057428917, 0.0071826773, -0.001865546, 0.026858663, 0.2067571, -0.012181301, -0.005200128, 0.028678708, 0.005765642, 0.018525457, 0.013546334, -0.0010140251, 0.0020166747, 0.020410504, -0.0031022015, 0.009971246, -0.01986449, 0.007858694, 0.007202178, 0.0074361833, -0.02558463, -0.025870638, -0.03151278, -0.019708486, -0.004823119, -0.024609607, -0.033852834, -0.024102595, 0.01458636, -0.018187448, -0.0056258887, -0.0041666026, 0.04144502, 0.014820365, -0.009893244, -0.026130645, 0.009665739, 0.012265802, -0.0053983834, -0.01742043, 0.024921615, -0.0064189085, 0.04414909, 0.0098087415, -0.011199776, -0.002635815, -0.0026536905, -0.010023247, -0.005950897, 0.006162152, 0.0065489113, -0.035568878, 0.0049043708, 0.030940764, -0.019383479, 0.0024278099, 0.01175879, 0.025649633, -0.0011050273, -0.0024424351, 0.009938745, 0.019591482, -0.008144701, 0.0024473104, -0.0065001603, 0.03333282, -0.008833718, 0.02675466, -0.01540538, 0.005889145, -0.022386553, 0.00973074, 0.0162374, -0.025636632, -0.013819341, -0.0045533623, 0.015548384, -0.014209351, -0.036348898, -0.018889466, 0.0162764, 0.01575639, 0.02267256, 0.023647584, 0.014846366, 0.00892472, -0.00045948007, -0.026650658, -0.029510727, -0.03400884, -0.007007173, 0.006529411, -0.017355427, -0.028288698, -0.0023888089, -0.020449504, -0.0013755964, 0.011258278, 0.018603459, 0.028418701, -0.001479599, 0.013520334, -0.032760806, 0.021853538, -0.012759815, -0.010250753, -0.0015697887, 0.0029429477, 0.002835695, 0.010647262, -0.01666641, 0.0095357355, 0.005505636, -0.011063273, -0.023348575, -0.022828562, 0.0048036184, 0.0017956693, -0.014443357, 0.019318476, -0.013442332, 0.010595261, -0.0072671794, 0.0016835416, -1.1686323e-05, -0.014261352, -0.0031103268, -0.016159398, -0.007384182, -0.010263753, -0.017680436, -0.0014950369, 0.017147424, -0.04009299, 0.008729715, -0.0033037064, 0.015600385, 0.008950721, -0.002432685, -0.0042283544, 0.007429683, -0.0062954053, -0.023400577, 0.0092042275, -0.0014097223, -0.019591482, 0.0066009127, 0.000992087, -0.017381428, -0.0051741274, 0.028522704, -0.016588408, -0.00689017, 0.0075531863, -0.02476561, 0.00082836417, 0.006285655, -0.021450529, 0.021788538, -0.010998271, -0.039052963, -0.029094718, 0.010315754, -0.0011887169, -0.030264746, 0.0145603595, 0.04100301, -0.0048393696, -0.028886713, -0.01905847, -0.16848415, 0.019799488, 0.013260327, -0.01904547, 0.033878837, 0.011862793, 0.039884984, 0.008203202, -0.0015722263, 0.0065846625, -0.0037473424, -0.013741339, -0.031486776, -0.008307205, 0.0075726868, -0.0076441886, -0.0010254002, 0.01584739, 0.039546974, 0.027898688, 0.032656804, -0.01584739, 0.016341403, 0.0042218543, -0.001256156, -0.0046541146, 0.010712264, 0.02875671, -0.011973295, -0.0011570285, -0.008151201, -0.01661441, 0.029926738, 0.011934294, 0.019383479, 0.0014535984, 0.0017290426, -0.04422709, -0.011277778, 0.02473961, 0.03447685, 0.018928466, 0.014924368, -0.021814538, -0.011570285, 0.00445911, 0.0202805, 0.003445085, 0.026416652, 0.003412584, 0.007741691, -0.0031542028, -0.0030875762, -0.0098282425, 0.025467629, 0.012902819, 0.0006118276, 0.01943548, 0.011160775, -0.0027771934, -0.010939769, -0.017771438, 0.0063116555, 0.006581412, 0.005300881, -0.009581236, -0.0037213417, 0.013156325, -0.01296782, 0.014872367, -0.0014454732, -0.022880564, -0.0090287225, -0.040613003, 0.018798463, 0.0040300996, -0.038766958, 0.01748543, -0.01745943, -0.024466604, -0.014287353, 0.025740635, 0.011076273, 0.005866395, -0.01135578, 0.0012334054, -0.0018444204, 0.0037603427, -0.023361577, -0.022022543, 0.03156478, -0.011225777, 0.00057851424, -0.013611335, 0.0022409302, 0.004137352, 0.020891516, 0.01335133, -0.025831638, 0.006392908, 0.010439257, 0.0026439403, -0.0039065965, 0.017602434, 0.02389459, 0.0001970361, 0.021827538, 0.008391707, 0.014521359, -0.021983542, -0.018889466, 0.014690362, 0.019227475, 0.026546655, 0.004286856, 0.020488506, -0.007098175, -0.020540508, 0.0032663306, -0.0090092225, 0.04292706, -0.0077676917, -0.021541532, -0.0005053875, 0.0066561643, -0.0088532185, -0.06697765, -0.042433046, 0.008320205, 0.009607237, -0.010679764, 0.03289081, 0.0027836936, 0.0053366316, -0.0053821327, 0.0155353835, 0.0056908904, -0.022659559, -0.018135447, -0.010328755, 0.027066668, -0.03042075, -0.0015543508, 0.0003459304, -0.019279476, 0.02393359, -0.0077871922, -0.006942171, 0.0037180916, -0.0049986234, -0.018538456, 0.008768716, -0.010179251, 0.029406724, 0.013494333, -0.014326354, -0.016939418, -0.013286328, -0.0026878163, -0.0010505884, 0.0037050913, -0.00044444847, -0.04173103, 0.019331478, 0.013949344, -0.026325649, 0.03400884, 0.019578483, -0.010471758, -0.040196992, 0.0033995837, 0.0033930836, -0.0018850465, 0.04092501, -0.0026179396, -0.010816267, -0.0161854, -0.021827538, -0.023413578, 0.014235351, 0.01820045, -0.009405732, 0.026325649, 0.03452885, -0.0058566444, 0.017589433, 0.009503234, 0.0014836616, -0.019006468, 0.022009542, -0.013637336, 0.0018265451, -0.020501506, 0.02277656, 0.014508358, -0.00043022935, -0.011128275, 0.02191854, -0.0006089838, 0.01013375, -0.026988667, 0.0101207495, -0.002068676, -0.020618508, 0.021034518, -0.015080372, -0.030524753, -0.022555556, 0.011661287, -0.0014812241, 0.02229555, 0.010920269, -0.0033378324, -0.00891172, -0.0036368398, -0.026832663, -0.018941468, 0.0080927, 0.014677362, -0.009639738, 0.0066334135, -0.009659238, -0.0034710856, 0.008671214, 0.01783644, 0.0038708455, -0.033098817, 0.0026601907, -0.059385464, 0.03192879, -0.012213801, -0.02917272, 0.010835767, 0.0036498401, -0.0016087897, -0.026026642, -0.010920269, -0.013988345, -0.026962666, -0.0026796912, -0.007975697, 0.012629812, -0.035360873, -0.013299328, 0.012902819, 0.010608261, 0.021268524, 0.013019821, 0.013559334, -0.033826835, 0.007098175, 0.0014064722, -0.027638681, 0.0010302754, -0.025961641, -0.0077091902, -0.0028243198, -0.018837465, 0.0056908904, -0.03203279, 0.005963897, 0.021736536, 0.007871694, -0.0030290748, 0.008333205, 0.028210696, -0.008593212, 0.028938714, -0.031226771, -0.019266475, 0.011797791, -0.003851345, -0.013162824, 0.005918396, -0.0075206854, 0.0040235994, 0.02470061, 0.020241499, 0.0005001061, 0.034632854, -0.025116619, -0.027378675, -0.024271598, -0.01862946, 0.013819341, 0.007059174, -0.0024846862, -0.043629076, 0.020488506, -0.0014869117, 0.02107352, -0.0022539306, 0.0057851425, 0.0017371678, -0.021736536, -0.005635639, -0.018837465, -0.024531605, -0.010387256, -0.01175879, -0.0022815564, 0.011622286, 0.018382454, 0.017927442, -0.01579539, 0.0091457255, -0.03528287, 0.030134743, 0.016731413, 0.0095942365, -0.023049569, 0.0025350626, 0.033410825, 0.010471758, -0.002669941, -0.005096126, 0.0010538385, 0.012044797, -0.032318797, -0.0088532185, 0.010088249, 0.024778612, 0.002073551, 0.010179251, 0.014261352, 0.007624688, 0.028236696, 0.009061224, 0.008365707, 0.012428307, -0.022009542, -0.015132373, -0.015483382, 0.004329107, -0.016302401, -0.040717006, -0.0020329251, 0.004585863, 0.0011944044, 0.025181621, 0.011147775, 0.011329779, -0.027924689, -0.0023205571, 0.015899392, 6.266561e-05, -0.033930838, 0.03944297, -0.015171374, 0.0030762008, 0.02273756, -0.017329428, 0.019383479, 0.0008767091, -0.014248352, -0.010530259, 0.019539481, -0.005154627, 0.017121423, -0.008476209, -0.019136472, -0.01539238, -0.011433782, 0.015236376, 0.0010164626, 0.02554563, -0.0065944125, 0.072697796, -0.0058988957, -0.0010522135, 0.018317452, 0.022802562, 0.012259303, 0.0081187, 0.010764265, -0.010530259, -0.025207622, -0.0039878483, 0.004134102, 0.0067991675, -0.030992765, -0.028496703, 0.0049303714, -0.018044446, -0.0035165867, -0.008781716, 0.005479635, 0.0075206854, 0.0080927, 0.0156133855, -1.4841186e-05, -0.02232155, -0.010062248, 0.009854243, 0.015639385, -0.015626386, -0.043525074, 0.011713289, 0.0006768292, -0.0049433718, -0.017225426, -0.0011854668, 0.0077156904, -0.0051708776, -0.01136878, 0.007988697, 0.009652738, 0.014846366, 0.006714666, -0.019916492, -0.023829587, -0.0030973265, 0.0024359352, -0.028080693, -0.0026943164, -0.021801537]\n"
     ]
    }
   ],
   "source": [
    "# demonstrate embeddings generation using a test string\n",
    "test = \"hello, world\"\n",
    "print(generate_embeddings(test))"
   ]
  },
  {
   "cell_type": "markdown",
   "metadata": {},
   "source": [
    "### Vectorize and update all documents in the Cosmic Works database"
   ]
  },
  {
   "cell_type": "code",
   "execution_count": 7,
   "metadata": {},
   "outputs": [],
   "source": [
    "def add_collection_content_vector_field(collection_name: str):\n",
    "    '''\n",
    "    Add a new field to the collection to hold the vectorized content of each document.\n",
    "    '''\n",
    "    collection = db[collection_name]\n",
    "    bulk_operations = []\n",
    "    for doc in collection.find():\n",
    "        # remove any previous contentVector embeddings\n",
    "        if \"contentVector\" in doc:\n",
    "            del doc[\"contentVector\"]\n",
    "\n",
    "        # generate embeddings for the document string representation\n",
    "        content = json.dumps(doc, default=str)\n",
    "        content_vector = generate_embeddings(content)       \n",
    "        \n",
    "        bulk_operations.append(pymongo.UpdateOne(\n",
    "            {\"_id\": doc[\"_id\"]},\n",
    "            {\"$set\": {\"contentVector\": content_vector}},\n",
    "            upsert=True\n",
    "        ))\n",
    "    # execute bulk operations\n",
    "    collection.bulk_write(bulk_operations)"
   ]
  },
  {
   "cell_type": "code",
   "execution_count": 8,
   "metadata": {},
   "outputs": [
    {
     "name": "stderr",
     "output_type": "stream",
     "text": [
      "/Users/shuhaibwalahi/Library/Python/3.9/lib/python/site-packages/pymongo/collection.py:1697: UserWarning: use an explicit session with no_cursor_timeout=True otherwise the cursor may still timeout after 30 minutes, for more info see https://mongodb.com/docs/v4.4/reference/method/cursor.noCursorTimeout/#session-idle-timeout-overrides-nocursortimeout\n",
      "  return Cursor(self, *args, **kwargs)\n"
     ]
    }
   ],
   "source": [
    "# Add vector field to customers documents\n",
    "#IMPORTANT TO ONLY RUN THIS FOR ALL 3\n",
    "from pymongo import MongoClient\n",
    "from pymongo.errors import CursorNotFound\n",
    "from pymongo import UpdateOne\n",
    "import numpy as np  # Assuming you have numpy for generating example vectors\n",
    "\n",
    "# Initialize MongoDB client\n",
    "\n",
    "\n",
    "\n",
    "def add_collection_content_vector_field(collection_name):\n",
    "    collection = db[collection_name]\n",
    "    bulk_operations = []\n",
    "    batch_size = 100  # Adjust the batch size as needed\n",
    "\n",
    "    # Generate a placeholder vector of 1536 dimensions\n",
    "    placeholder_vector = list(np.random.rand(1536))  # Replace with actual vector embeddings\n",
    "\n",
    "    try:\n",
    "        cursor = collection.find({}, batch_size=batch_size, no_cursor_timeout=True)\n",
    "\n",
    "        for doc in cursor:\n",
    "            # remove any previous contentVector embeddings\n",
    "            if \"contentVector\" in doc:\n",
    "                del doc[\"contentVector\"]\n",
    "            # Update document with new field (example)\n",
    "            bulk_operations.append(UpdateOne({\"_id\": doc[\"_id\"]}, {\"$set\": {\"contentVector\": placeholder_vector}}))\n",
    "\n",
    "            if len(bulk_operations) == batch_size:\n",
    "                collection.bulk_write(bulk_operations, ordered=False)\n",
    "                bulk_operations = []\n",
    "\n",
    "        if bulk_operations:\n",
    "            collection.bulk_write(bulk_operations, ordered=False)\n",
    "\n",
    "    except CursorNotFound:\n",
    "        print(\"Cursor expired. Retrying...\")\n",
    "        add_collection_content_vector_field(collection_name)\n",
    "    finally:\n",
    "        cursor.close()\n",
    "\n",
    "# Run the function for each collection\n",
    "add_collection_content_vector_field(\"products\")\n",
    "add_collection_content_vector_field(\"customers\")\n",
    "add_collection_content_vector_field(\"sales\")"
   ]
  },
  {
   "cell_type": "code",
   "execution_count": 10,
   "metadata": {},
   "outputs": [
    {
     "ename": "UnboundLocalError",
     "evalue": "local variable 'cursor' referenced before assignment",
     "output_type": "error",
     "traceback": [
      "\u001b[0;31m---------------------------------------------------------------------------\u001b[0m",
      "\u001b[0;31mNameError\u001b[0m                                 Traceback (most recent call last)",
      "\u001b[1;32m/Users/shuhaibwalahi/Desktop/projects/openai-proj/Azure-OpenAI-Python-Developer-Guide/Labs/lab_3_mongodb_vector_search.ipynb Cell 16\u001b[0m line \u001b[0;36m1\n\u001b[1;32m     <a href='vscode-notebook-cell:/Users/shuhaibwalahi/Desktop/projects/openai-proj/Azure-OpenAI-Python-Developer-Guide/Labs/lab_3_mongodb_vector_search.ipynb#X21sZmlsZQ%3D%3D?line=12'>13</a>\u001b[0m \u001b[39mtry\u001b[39;00m:\n\u001b[0;32m---> <a href='vscode-notebook-cell:/Users/shuhaibwalahi/Desktop/projects/openai-proj/Azure-OpenAI-Python-Developer-Guide/Labs/lab_3_mongodb_vector_search.ipynb#X21sZmlsZQ%3D%3D?line=13'>14</a>\u001b[0m     cursor \u001b[39m=\u001b[39m collection\u001b[39m.\u001b[39mfind({}, batch_size\u001b[39m=\u001b[39mbatch_size, no_cursor_timeout\u001b[39m=\u001b[39m\u001b[39mTrue\u001b[39;00m)\n\u001b[1;32m     <a href='vscode-notebook-cell:/Users/shuhaibwalahi/Desktop/projects/openai-proj/Azure-OpenAI-Python-Developer-Guide/Labs/lab_3_mongodb_vector_search.ipynb#X21sZmlsZQ%3D%3D?line=15'>16</a>\u001b[0m     \u001b[39mfor\u001b[39;00m doc \u001b[39min\u001b[39;00m cursor:\n\u001b[1;32m     <a href='vscode-notebook-cell:/Users/shuhaibwalahi/Desktop/projects/openai-proj/Azure-OpenAI-Python-Developer-Guide/Labs/lab_3_mongodb_vector_search.ipynb#X21sZmlsZQ%3D%3D?line=16'>17</a>\u001b[0m         \u001b[39m# remove any previous contentVector embeddings\u001b[39;00m\n",
      "\u001b[0;31mNameError\u001b[0m: name 'batch_size' is not defined",
      "\nDuring handling of the above exception, another exception occurred:\n",
      "\u001b[0;31mUnboundLocalError\u001b[0m                         Traceback (most recent call last)",
      "\u001b[1;32m/Users/shuhaibwalahi/Desktop/projects/openai-proj/Azure-OpenAI-Python-Developer-Guide/Labs/lab_3_mongodb_vector_search.ipynb Cell 16\u001b[0m line \u001b[0;36m3\n\u001b[1;32m     <a href='vscode-notebook-cell:/Users/shuhaibwalahi/Desktop/projects/openai-proj/Azure-OpenAI-Python-Developer-Guide/Labs/lab_3_mongodb_vector_search.ipynb#X21sZmlsZQ%3D%3D?line=32'>33</a>\u001b[0m     \u001b[39mfinally\u001b[39;00m:\n\u001b[1;32m     <a href='vscode-notebook-cell:/Users/shuhaibwalahi/Desktop/projects/openai-proj/Azure-OpenAI-Python-Developer-Guide/Labs/lab_3_mongodb_vector_search.ipynb#X21sZmlsZQ%3D%3D?line=33'>34</a>\u001b[0m         cursor\u001b[39m.\u001b[39mclose()\n\u001b[0;32m---> <a href='vscode-notebook-cell:/Users/shuhaibwalahi/Desktop/projects/openai-proj/Azure-OpenAI-Python-Developer-Guide/Labs/lab_3_mongodb_vector_search.ipynb#X21sZmlsZQ%3D%3D?line=34'>35</a>\u001b[0m add_collection_content_vector_field(\u001b[39m\"\u001b[39;49m\u001b[39mcustomers\u001b[39;49m\u001b[39m\"\u001b[39;49m)\n",
      "\u001b[1;32m/Users/shuhaibwalahi/Desktop/projects/openai-proj/Azure-OpenAI-Python-Developer-Guide/Labs/lab_3_mongodb_vector_search.ipynb Cell 16\u001b[0m line \u001b[0;36m3\n\u001b[1;32m     <a href='vscode-notebook-cell:/Users/shuhaibwalahi/Desktop/projects/openai-proj/Azure-OpenAI-Python-Developer-Guide/Labs/lab_3_mongodb_vector_search.ipynb#X21sZmlsZQ%3D%3D?line=31'>32</a>\u001b[0m     add_collection_content_vector_field(collection_name)\n\u001b[1;32m     <a href='vscode-notebook-cell:/Users/shuhaibwalahi/Desktop/projects/openai-proj/Azure-OpenAI-Python-Developer-Guide/Labs/lab_3_mongodb_vector_search.ipynb#X21sZmlsZQ%3D%3D?line=32'>33</a>\u001b[0m \u001b[39mfinally\u001b[39;00m:\n\u001b[0;32m---> <a href='vscode-notebook-cell:/Users/shuhaibwalahi/Desktop/projects/openai-proj/Azure-OpenAI-Python-Developer-Guide/Labs/lab_3_mongodb_vector_search.ipynb#X21sZmlsZQ%3D%3D?line=33'>34</a>\u001b[0m     cursor\u001b[39m.\u001b[39mclose()\n",
      "\u001b[0;31mUnboundLocalError\u001b[0m: local variable 'cursor' referenced before assignment"
     ]
    }
   ],
   "source": [
    "#DO NOT RUN THIS DO NOT RUN THIS DO NOT RUN THIS\n",
    "\"\"\"from pymongo import MongoClient\n",
    "from pymongo.errors import CursorNotFound\n",
    "from pymongo import UpdateOne\n",
    "\n",
    "\n",
    "\n",
    "def add_collection_content_vector_field(collection_name):\n",
    "    collection = db[collection_name]\n",
    "    bulk_operations = []\n",
    "   \n",
    "\n",
    "    try:\n",
    "        cursor = collection.find({}, batch_size=batch_size, no_cursor_timeout=True)\n",
    "\n",
    "        for doc in cursor:\n",
    "            # remove any previous contentVector embeddings\n",
    "            if \"contentVector\" in doc:\n",
    "                del doc[\"contentVector\"]\n",
    "            # Update document with new field (example)\n",
    "            bulk_operations.append(UpdateOne({\"_id\": doc[\"_id\"]}, {\"$set\": {\"contentVector\": [0]}}))\n",
    "\n",
    "            if len(bulk_operations) == batch_size:\n",
    "                collection.bulk_write(bulk_operations, ordered=False)\n",
    "                bulk_operations = []\n",
    "\n",
    "        if bulk_operations:\n",
    "            collection.bulk_write(bulk_operations, ordered=False)\n",
    "\n",
    "    except CursorNotFound:\n",
    "        print(\"Cursor expired. Retrying...\")\n",
    "        add_collection_content_vector_field(collection_name)\n",
    "    finally:\n",
    "        cursor.close()\n",
    "add_collection_content_vector_field(\"customers\")\"\"\""
   ]
  },
  {
   "cell_type": "code",
   "execution_count": 11,
   "metadata": {},
   "outputs": [
    {
     "ename": "UnboundLocalError",
     "evalue": "local variable 'cursor' referenced before assignment",
     "output_type": "error",
     "traceback": [
      "\u001b[0;31m---------------------------------------------------------------------------\u001b[0m",
      "\u001b[0;31mNameError\u001b[0m                                 Traceback (most recent call last)",
      "\u001b[1;32m/Users/shuhaibwalahi/Desktop/projects/openai-proj/Azure-OpenAI-Python-Developer-Guide/Labs/lab_3_mongodb_vector_search.ipynb Cell 17\u001b[0m line \u001b[0;36m1\n\u001b[1;32m     <a href='vscode-notebook-cell:/Users/shuhaibwalahi/Desktop/projects/openai-proj/Azure-OpenAI-Python-Developer-Guide/Labs/lab_3_mongodb_vector_search.ipynb#X22sZmlsZQ%3D%3D?line=12'>13</a>\u001b[0m \u001b[39mtry\u001b[39;00m:\n\u001b[0;32m---> <a href='vscode-notebook-cell:/Users/shuhaibwalahi/Desktop/projects/openai-proj/Azure-OpenAI-Python-Developer-Guide/Labs/lab_3_mongodb_vector_search.ipynb#X22sZmlsZQ%3D%3D?line=13'>14</a>\u001b[0m     cursor \u001b[39m=\u001b[39m collection\u001b[39m.\u001b[39mfind({}, batch_size\u001b[39m=\u001b[39mbatch_size, no_cursor_timeout\u001b[39m=\u001b[39m\u001b[39mTrue\u001b[39;00m)\n\u001b[1;32m     <a href='vscode-notebook-cell:/Users/shuhaibwalahi/Desktop/projects/openai-proj/Azure-OpenAI-Python-Developer-Guide/Labs/lab_3_mongodb_vector_search.ipynb#X22sZmlsZQ%3D%3D?line=15'>16</a>\u001b[0m     \u001b[39mfor\u001b[39;00m doc \u001b[39min\u001b[39;00m cursor:\n\u001b[1;32m     <a href='vscode-notebook-cell:/Users/shuhaibwalahi/Desktop/projects/openai-proj/Azure-OpenAI-Python-Developer-Guide/Labs/lab_3_mongodb_vector_search.ipynb#X22sZmlsZQ%3D%3D?line=16'>17</a>\u001b[0m         \u001b[39m# remove any previous contentVector embeddings\u001b[39;00m\n",
      "\u001b[0;31mNameError\u001b[0m: name 'batch_size' is not defined",
      "\nDuring handling of the above exception, another exception occurred:\n",
      "\u001b[0;31mUnboundLocalError\u001b[0m                         Traceback (most recent call last)",
      "\u001b[1;32m/Users/shuhaibwalahi/Desktop/projects/openai-proj/Azure-OpenAI-Python-Developer-Guide/Labs/lab_3_mongodb_vector_search.ipynb Cell 17\u001b[0m line \u001b[0;36m3\n\u001b[1;32m     <a href='vscode-notebook-cell:/Users/shuhaibwalahi/Desktop/projects/openai-proj/Azure-OpenAI-Python-Developer-Guide/Labs/lab_3_mongodb_vector_search.ipynb#X22sZmlsZQ%3D%3D?line=32'>33</a>\u001b[0m     \u001b[39mfinally\u001b[39;00m:\n\u001b[1;32m     <a href='vscode-notebook-cell:/Users/shuhaibwalahi/Desktop/projects/openai-proj/Azure-OpenAI-Python-Developer-Guide/Labs/lab_3_mongodb_vector_search.ipynb#X22sZmlsZQ%3D%3D?line=33'>34</a>\u001b[0m         cursor\u001b[39m.\u001b[39mclose()\n\u001b[0;32m---> <a href='vscode-notebook-cell:/Users/shuhaibwalahi/Desktop/projects/openai-proj/Azure-OpenAI-Python-Developer-Guide/Labs/lab_3_mongodb_vector_search.ipynb#X22sZmlsZQ%3D%3D?line=34'>35</a>\u001b[0m add_collection_content_vector_field(\u001b[39m\"\u001b[39;49m\u001b[39msales\u001b[39;49m\u001b[39m\"\u001b[39;49m)\n",
      "\u001b[1;32m/Users/shuhaibwalahi/Desktop/projects/openai-proj/Azure-OpenAI-Python-Developer-Guide/Labs/lab_3_mongodb_vector_search.ipynb Cell 17\u001b[0m line \u001b[0;36m3\n\u001b[1;32m     <a href='vscode-notebook-cell:/Users/shuhaibwalahi/Desktop/projects/openai-proj/Azure-OpenAI-Python-Developer-Guide/Labs/lab_3_mongodb_vector_search.ipynb#X22sZmlsZQ%3D%3D?line=31'>32</a>\u001b[0m     add_collection_content_vector_field(collection_name)\n\u001b[1;32m     <a href='vscode-notebook-cell:/Users/shuhaibwalahi/Desktop/projects/openai-proj/Azure-OpenAI-Python-Developer-Guide/Labs/lab_3_mongodb_vector_search.ipynb#X22sZmlsZQ%3D%3D?line=32'>33</a>\u001b[0m \u001b[39mfinally\u001b[39;00m:\n\u001b[0;32m---> <a href='vscode-notebook-cell:/Users/shuhaibwalahi/Desktop/projects/openai-proj/Azure-OpenAI-Python-Developer-Guide/Labs/lab_3_mongodb_vector_search.ipynb#X22sZmlsZQ%3D%3D?line=33'>34</a>\u001b[0m     cursor\u001b[39m.\u001b[39mclose()\n",
      "\u001b[0;31mUnboundLocalError\u001b[0m: local variable 'cursor' referenced before assignment"
     ]
    }
   ],
   "source": [
    "#DO NOT RUN THIS DO NOT RUN THIS DO NOT RUN THIS\n",
    "\"\"\"from pymongo import MongoClient\n",
    "from pymongo.errors import CursorNotFound\n",
    "from pymongo import UpdateOne\n",
    "\n",
    "\n",
    "\n",
    "def add_collection_content_vector_field(collection_name):\n",
    "    collection = db[collection_name]\n",
    "    bulk_operations = []\n",
    "    \n",
    "\n",
    "    try:\n",
    "        cursor = collection.find({}, batch_size=batch_size, no_cursor_timeout=True)\n",
    "\n",
    "        for doc in cursor:\n",
    "            # remove any previous contentVector embeddings\n",
    "            if \"contentVector\" in doc:\n",
    "                del doc[\"contentVector\"]\n",
    "            # Update document with new field (example)\n",
    "            bulk_operations.append(UpdateOne({\"_id\": doc[\"_id\"]}, {\"$set\": {\"contentVector\": [0]}}))\n",
    "\n",
    "            if len(bulk_operations) == batch_size:\n",
    "                collection.bulk_write(bulk_operations, ordered=False)\n",
    "                bulk_operations = []\n",
    "\n",
    "        if bulk_operations:\n",
    "            collection.bulk_write(bulk_operations, ordered=False)\n",
    "\n",
    "    except CursorNotFound:\n",
    "        print(\"Cursor expired. Retrying...\")\n",
    "        add_collection_content_vector_field(collection_name)\n",
    "    finally:\n",
    "        cursor.close()\n",
    "add_collection_content_vector_field(\"sales\")\"\"\""
   ]
  },
  {
   "cell_type": "code",
   "execution_count": 12,
   "metadata": {},
   "outputs": [
    {
     "data": {
      "text/plain": [
       "{'raw': {'defaultShard': {'numIndexesBefore': 1,\n",
       "   'numIndexesAfter': 2,\n",
       "   'createdCollectionAutomatically': False,\n",
       "   'ok': 1}},\n",
       " 'ok': 1}"
      ]
     },
     "execution_count": 12,
     "metadata": {},
     "output_type": "execute_result"
    }
   ],
   "source": [
    "#START RUNNING AGAIN\n",
    "# Create the products vector index, above didnt load for products so comment out\n",
    "db.command({\n",
    "  'createIndexes': 'products',\n",
    "  'indexes': [\n",
    "    {\n",
    "      'name': 'VectorSearchIndex',\n",
    "      'key': {\n",
    "        \"contentVector\": \"cosmosSearch\"\n",
    "      },\n",
    "      'cosmosSearchOptions': {\n",
    "        'kind': 'vector-ivf',\n",
    "        'numLists': 1,\n",
    "        'similarity': 'COS',\n",
    "        'dimensions': 1536\n",
    "      }\n",
    "    }\n",
    "  ]\n",
    "})\n",
    "\n",
    "# Create the customers vector index\n",
    "db.command({\n",
    "  'createIndexes': 'customers',\n",
    "  'indexes': [\n",
    "    {\n",
    "      'name': 'VectorSearchIndex',\n",
    "      'key': {\n",
    "        \"contentVector\": \"cosmosSearch\"\n",
    "      },\n",
    "      'cosmosSearchOptions': {\n",
    "        'kind': 'vector-ivf',\n",
    "        'numLists': 1,\n",
    "        'similarity': 'COS',\n",
    "        'dimensions': 1536\n",
    "      }\n",
    "    }\n",
    "  ]\n",
    "})\n",
    "\n",
    "# Create the sales vector index, above didnt work for sales so comment out \n",
    "db.command({\n",
    "  'createIndexes': 'sales',\n",
    "  'indexes': [\n",
    "    {\n",
    "      'name': 'VectorSearchIndex',\n",
    "      'key': {\n",
    "        \"contentVector\": \"cosmosSearch\"\n",
    "      },\n",
    "      'cosmosSearchOptions': {\n",
    "       'kind': 'vector-ivf',\n",
    "        'numLists': 1,\n",
    "        'similarity': 'COS',\n",
    "        'dimensions': 1536\n",
    "      }\n",
    "    }\n",
    "  ]\n",
    "})"
   ]
  },
  {
   "cell_type": "markdown",
   "metadata": {},
   "source": [
    "## Use vector search in vCore-based Azure Cosmos DB for MongoDB\n",
    "\n",
    "Now that each document has its associated vector embedding and the vector indexes have been created on each collection, we can now use the vector search capabilities of vCore-based Azure Cosmos DB for MongoDB."
   ]
  },
  {
   "cell_type": "code",
   "execution_count": 13,
   "metadata": {},
   "outputs": [],
   "source": [
    "def vector_search(collection_name, query, num_results=3):\n",
    "    \"\"\"\n",
    "    Perform a vector search on the specified collection by vectorizing\n",
    "    the query and searching the vector index for the most similar documents.\n",
    "\n",
    "    returns a list of the top num_results most similar documents\n",
    "    \"\"\"\n",
    "    collection = db[collection_name]\n",
    "    query_embedding = generate_embeddings(query)    \n",
    "    pipeline = [\n",
    "        {\n",
    "            '$search': {\n",
    "                \"cosmosSearch\": {\n",
    "                    \"vector\": query_embedding,\n",
    "                    \"path\": \"contentVector\",\n",
    "                    \"k\": num_results\n",
    "                },\n",
    "                \"returnStoredSource\": True }},\n",
    "        {'$project': { 'similarityScore': { '$meta': 'searchScore' }, 'document' : '$$ROOT' } }\n",
    "    ]\n",
    "    results = collection.aggregate(pipeline)\n",
    "    return results\n",
    "\n",
    "def print_product_search_result(result):\n",
    "    '''\n",
    "    Print the search result document in a readable format\n",
    "    '''\n",
    "    print(f\"Similarity Score: {result['similarityScore']}\")  \n",
    "    print(f\"Name: {result['document']['name']}\")   \n",
    "    print(f\"Category: {result['document']['categoryName']}\")\n",
    "    print(f\"SKU: {result['document']['categoryName']}\")\n",
    "    print(f\"_id: {result['document']['_id']}\\n\")"
   ]
  },
  {
   "cell_type": "code",
   "execution_count": 14,
   "metadata": {},
   "outputs": [
    {
     "name": "stdout",
     "output_type": "stream",
     "text": [
      "Similarity Score: -0.04840514717753619\n",
      "Name: Touring Tire Tube\n",
      "Category: Accessories, Tires and Tubes\n",
      "SKU: Accessories, Tires and Tubes\n",
      "_id: 29663491-D2E9-47B4-83AE-D9459B6B5B67\n",
      "\n",
      "Similarity Score: -0.04840514717753619\n",
      "Name: Classic Vest, L\n",
      "Category: Clothing, Vests\n",
      "SKU: Clothing, Vests\n",
      "_id: 80D3630F-B661-4FD6-A296-CD03BB7A4A0C\n",
      "\n",
      "Similarity Score: -0.04840514717753619\n",
      "Name: Touring-3000 Blue, 50\n",
      "Category: Bikes, Touring Bikes\n",
      "SKU: Bikes, Touring Bikes\n",
      "_id: DDD64AA0-30DC-4DC1-BCDC-2882A0FD178C\n",
      "\n",
      "Similarity Score: -0.04840514717753619\n",
      "Name: Road-750 Black, 52\n",
      "Category: Bikes, Road Bikes\n",
      "SKU: Bikes, Road Bikes\n",
      "_id: FEEFEE3B-6CB9-4A75-B896-5182531F661B\n",
      "\n"
     ]
    }
   ],
   "source": [
    "query = \"What bikes do you have?\"\n",
    "results = vector_search(\"products\", query, num_results=4)\n",
    "for result in results:\n",
    "    print_product_search_result(result)   "
   ]
  },
  {
   "cell_type": "code",
   "execution_count": 15,
   "metadata": {},
   "outputs": [
    {
     "name": "stdout",
     "output_type": "stream",
     "text": [
      "Similarity Score: -0.043650975292541805\n",
      "Name: Touring Tire Tube\n",
      "Category: Accessories, Tires and Tubes\n",
      "SKU: Accessories, Tires and Tubes\n",
      "_id: 29663491-D2E9-47B4-83AE-D9459B6B5B67\n",
      "\n",
      "Similarity Score: -0.043650975292541805\n",
      "Name: Classic Vest, L\n",
      "Category: Clothing, Vests\n",
      "SKU: Clothing, Vests\n",
      "_id: 80D3630F-B661-4FD6-A296-CD03BB7A4A0C\n",
      "\n",
      "Similarity Score: -0.043650975292541805\n",
      "Name: Touring-3000 Blue, 50\n",
      "Category: Bikes, Touring Bikes\n",
      "SKU: Bikes, Touring Bikes\n",
      "_id: DDD64AA0-30DC-4DC1-BCDC-2882A0FD178C\n",
      "\n",
      "Similarity Score: -0.043650975292541805\n",
      "Name: Road-750 Black, 52\n",
      "Category: Bikes, Road Bikes\n",
      "SKU: Bikes, Road Bikes\n",
      "_id: FEEFEE3B-6CB9-4A75-B896-5182531F661B\n",
      "\n"
     ]
    }
   ],
   "source": [
    "query = \"What do you have that is yellow?\"\n",
    "results = vector_search(\"products\", query, num_results=4)\n",
    "for result in results:\n",
    "    print_product_search_result(result)   "
   ]
  },
  {
   "cell_type": "markdown",
   "metadata": {},
   "source": [
    "## Use vector search results in a RAG pattern with Chat GPT-3.5"
   ]
  },
  {
   "cell_type": "code",
   "execution_count": 16,
   "metadata": {},
   "outputs": [],
   "source": [
    "# A system prompt describes the responsibilities, instructions, and persona of the AI.\n",
    "system_prompt = \"\"\"\n",
    "You are a helpful, fun and friendly sales assistant for Cosmic Works, a bicycle and bicycle accessories store. \n",
    "Your name is Cosmo.\n",
    "You are designed to answer questions about the products that Cosmic Works sells.\n",
    "\n",
    "Only answer questions related to the information provided in the list of products below that are represented\n",
    "in JSON format.\n",
    "\n",
    "If you are asked a question that is not in the list, respond with \"I don't know.\"\n",
    "\n",
    "List of products:\n",
    "\"\"\""
   ]
  },
  {
   "cell_type": "code",
   "execution_count": 17,
   "metadata": {},
   "outputs": [],
   "source": [
    "def rag_with_vector_search(question: str, num_results: int = 3):\n",
    "    \"\"\"\n",
    "    Use the RAG model to generate a prompt using vector search results based on the\n",
    "    incoming question.  \n",
    "    \"\"\"\n",
    "    # perform the vector search and build product list\n",
    "    results = vector_search(\"products\", question, num_results=num_results)\n",
    "    product_list = \"\"\n",
    "    for result in results:\n",
    "        if \"contentVector\" in result[\"document\"]:\n",
    "            del result[\"document\"][\"contentVector\"]\n",
    "        product_list += json.dumps(result[\"document\"], indent=4, default=str) + \"\\n\\n\"\n",
    "\n",
    "    # generate prompt for the LLM with vector results\n",
    "    formatted_prompt = system_prompt + product_list\n",
    "\n",
    "    # prepare the LLM request\n",
    "    messages = [\n",
    "        {\"role\": \"system\", \"content\": formatted_prompt},\n",
    "        {\"role\": \"user\", \"content\": question}\n",
    "    ]\n",
    "\n",
    "    completion = ai_client.chat.completions.create(messages=messages, model=COMPLETIONS_DEPLOYMENT_NAME)\n",
    "    return completion.choices[0].message.content"
   ]
  },
  {
   "cell_type": "markdown",
   "metadata": {},
   "source": []
  },
  {
   "cell_type": "code",
   "execution_count": 18,
   "metadata": {},
   "outputs": [
    {
     "name": "stdout",
     "output_type": "stream",
     "text": [
      "We have the following bikes available:\n",
      "1. Touring-3000 Blue, 50\n",
      "2. Road-750 Black, 52\n"
     ]
    }
   ],
   "source": [
    "print(rag_with_vector_search(\"What bikes do you have?\", 5))"
   ]
  },
  {
   "cell_type": "code",
   "execution_count": 20,
   "metadata": {},
   "outputs": [
    {
     "name": "stdout",
     "output_type": "stream",
     "text": [
      "I don't know.\n"
     ]
    }
   ],
   "source": [
    "print(rag_with_vector_search(\"What was the price of the product with sku `FR-R92B-58`\", 5))"
   ]
  }
 ],
 "metadata": {
  "kernelspec": {
   "display_name": ".venv",
   "language": "python",
   "name": "python3"
  },
  "language_info": {
   "codemirror_mode": {
    "name": "ipython",
    "version": 3
   },
   "file_extension": ".py",
   "mimetype": "text/x-python",
   "name": "python",
   "nbconvert_exporter": "python",
   "pygments_lexer": "ipython3",
   "version": "3.9.6"
  }
 },
 "nbformat": 4,
 "nbformat_minor": 2
}
