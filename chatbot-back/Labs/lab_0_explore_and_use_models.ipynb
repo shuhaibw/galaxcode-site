{
 "cells": [
  {
   "cell_type": "markdown",
   "metadata": {},
   "source": [
    "# Explore and use Azure OpenAI models from code"
   ]
  },
  {
   "cell_type": "markdown",
   "metadata": {},
   "source": [
    "### OpenAI Client Library\n",
    "\n",
    "When integrating Azure OpenAI service in a solution written in Python, the OpenAI Python client library is used. This library is maintained by OpenAI, and is compatible with the Azure OpenAI service.\n",
    "\n",
    "Install the latest `openai` client library:"
   ]
  },
  {
   "cell_type": "code",
   "execution_count": 1,
   "metadata": {},
   "outputs": [
    {
     "name": "stdout",
     "output_type": "stream",
     "text": [
      "Defaulting to user installation because normal site-packages is not writeable\n",
      "Requirement already satisfied: pymongo==4.6.1 in /Users/shuhaibwalahi/Library/Python/3.9/lib/python/site-packages (from -r requirements.txt (line 1)) (4.6.1)\n",
      "Requirement already satisfied: python-dotenv==1.0.0 in /Users/shuhaibwalahi/Library/Python/3.9/lib/python/site-packages (from -r requirements.txt (line 2)) (1.0.0)\n",
      "Requirement already satisfied: requests==2.31.0 in /Users/shuhaibwalahi/Library/Python/3.9/lib/python/site-packages (from -r requirements.txt (line 3)) (2.31.0)\n",
      "Requirement already satisfied: pydantic==2.5.2 in /Users/shuhaibwalahi/Library/Python/3.9/lib/python/site-packages (from -r requirements.txt (line 4)) (2.5.2)\n",
      "Requirement already satisfied: openai==1.6.0 in /Users/shuhaibwalahi/Library/Python/3.9/lib/python/site-packages (from -r requirements.txt (line 5)) (1.6.0)\n",
      "Requirement already satisfied: tenacity==8.2.3 in /Users/shuhaibwalahi/Library/Python/3.9/lib/python/site-packages (from -r requirements.txt (line 6)) (8.2.3)\n",
      "Requirement already satisfied: langchain==0.0.352 in /Users/shuhaibwalahi/Library/Python/3.9/lib/python/site-packages (from -r requirements.txt (line 7)) (0.0.352)\n",
      "Requirement already satisfied: tiktoken==0.5.2 in /Users/shuhaibwalahi/Library/Python/3.9/lib/python/site-packages (from -r requirements.txt (line 8)) (0.5.2)\n",
      "Requirement already satisfied: fastapi==0.108.0 in /Users/shuhaibwalahi/Library/Python/3.9/lib/python/site-packages (from -r requirements.txt (line 9)) (0.108.0)\n",
      "Requirement already satisfied: uvicorn==0.25.0 in /Users/shuhaibwalahi/Library/Python/3.9/lib/python/site-packages (from -r requirements.txt (line 10)) (0.25.0)\n",
      "Requirement already satisfied: dnspython<3.0.0,>=1.16.0 in /Users/shuhaibwalahi/Library/Python/3.9/lib/python/site-packages (from pymongo==4.6.1->-r requirements.txt (line 1)) (2.6.1)\n",
      "Requirement already satisfied: certifi>=2017.4.17 in /Users/shuhaibwalahi/Library/Python/3.9/lib/python/site-packages (from requests==2.31.0->-r requirements.txt (line 3)) (2024.2.2)\n",
      "Requirement already satisfied: idna<4,>=2.5 in /Users/shuhaibwalahi/Library/Python/3.9/lib/python/site-packages (from requests==2.31.0->-r requirements.txt (line 3)) (3.7)\n",
      "Requirement already satisfied: urllib3<3,>=1.21.1 in /Users/shuhaibwalahi/Library/Python/3.9/lib/python/site-packages (from requests==2.31.0->-r requirements.txt (line 3)) (2.2.1)\n",
      "Requirement already satisfied: charset-normalizer<4,>=2 in /Users/shuhaibwalahi/Library/Python/3.9/lib/python/site-packages (from requests==2.31.0->-r requirements.txt (line 3)) (3.3.2)\n",
      "Requirement already satisfied: pydantic-core==2.14.5 in /Users/shuhaibwalahi/Library/Python/3.9/lib/python/site-packages (from pydantic==2.5.2->-r requirements.txt (line 4)) (2.14.5)\n",
      "Requirement already satisfied: typing-extensions>=4.6.1 in /Users/shuhaibwalahi/Library/Python/3.9/lib/python/site-packages (from pydantic==2.5.2->-r requirements.txt (line 4)) (4.11.0)\n",
      "Requirement already satisfied: annotated-types>=0.4.0 in /Users/shuhaibwalahi/Library/Python/3.9/lib/python/site-packages (from pydantic==2.5.2->-r requirements.txt (line 4)) (0.7.0)\n",
      "Requirement already satisfied: anyio<5,>=3.5.0 in /Users/shuhaibwalahi/Library/Python/3.9/lib/python/site-packages (from openai==1.6.0->-r requirements.txt (line 5)) (4.3.0)\n",
      "Requirement already satisfied: distro<2,>=1.7.0 in /Users/shuhaibwalahi/Library/Python/3.9/lib/python/site-packages (from openai==1.6.0->-r requirements.txt (line 5)) (1.9.0)\n",
      "Requirement already satisfied: httpx<1,>=0.23.0 in /Users/shuhaibwalahi/Library/Python/3.9/lib/python/site-packages (from openai==1.6.0->-r requirements.txt (line 5)) (0.27.0)\n",
      "Requirement already satisfied: tqdm>4 in /Users/shuhaibwalahi/Library/Python/3.9/lib/python/site-packages (from openai==1.6.0->-r requirements.txt (line 5)) (4.66.4)\n",
      "Requirement already satisfied: sniffio in /Users/shuhaibwalahi/Library/Python/3.9/lib/python/site-packages (from openai==1.6.0->-r requirements.txt (line 5)) (1.3.1)\n",
      "Requirement already satisfied: jsonpatch<2.0,>=1.33 in /Users/shuhaibwalahi/Library/Python/3.9/lib/python/site-packages (from langchain==0.0.352->-r requirements.txt (line 7)) (1.33)\n",
      "Requirement already satisfied: langchain-core<0.2,>=0.1 in /Users/shuhaibwalahi/Library/Python/3.9/lib/python/site-packages (from langchain==0.0.352->-r requirements.txt (line 7)) (0.1.23)\n",
      "Requirement already satisfied: async-timeout<5.0.0,>=4.0.0 in /Users/shuhaibwalahi/Library/Python/3.9/lib/python/site-packages (from langchain==0.0.352->-r requirements.txt (line 7)) (4.0.3)\n",
      "Requirement already satisfied: numpy<2,>=1 in /Users/shuhaibwalahi/Library/Python/3.9/lib/python/site-packages (from langchain==0.0.352->-r requirements.txt (line 7)) (1.26.4)\n",
      "Requirement already satisfied: SQLAlchemy<3,>=1.4 in /Users/shuhaibwalahi/Library/Python/3.9/lib/python/site-packages (from langchain==0.0.352->-r requirements.txt (line 7)) (2.0.30)\n",
      "Requirement already satisfied: langchain-community<0.1,>=0.0.2 in /Users/shuhaibwalahi/Library/Python/3.9/lib/python/site-packages (from langchain==0.0.352->-r requirements.txt (line 7)) (0.0.20)\n",
      "Requirement already satisfied: PyYAML>=5.3 in /Users/shuhaibwalahi/Library/Python/3.9/lib/python/site-packages (from langchain==0.0.352->-r requirements.txt (line 7)) (6.0.1)\n",
      "Requirement already satisfied: aiohttp<4.0.0,>=3.8.3 in /Users/shuhaibwalahi/Library/Python/3.9/lib/python/site-packages (from langchain==0.0.352->-r requirements.txt (line 7)) (3.9.5)\n",
      "Requirement already satisfied: langsmith<0.1.0,>=0.0.70 in /Users/shuhaibwalahi/Library/Python/3.9/lib/python/site-packages (from langchain==0.0.352->-r requirements.txt (line 7)) (0.0.87)\n",
      "Requirement already satisfied: dataclasses-json<0.7,>=0.5.7 in /Users/shuhaibwalahi/Library/Python/3.9/lib/python/site-packages (from langchain==0.0.352->-r requirements.txt (line 7)) (0.6.6)\n",
      "Requirement already satisfied: regex>=2022.1.18 in /Users/shuhaibwalahi/Library/Python/3.9/lib/python/site-packages (from tiktoken==0.5.2->-r requirements.txt (line 8)) (2024.5.15)\n",
      "Requirement already satisfied: starlette<0.33.0,>=0.29.0 in /Users/shuhaibwalahi/Library/Python/3.9/lib/python/site-packages (from fastapi==0.108.0->-r requirements.txt (line 9)) (0.32.0.post1)\n",
      "Requirement already satisfied: click>=7.0 in /Users/shuhaibwalahi/Library/Python/3.9/lib/python/site-packages (from uvicorn==0.25.0->-r requirements.txt (line 10)) (8.1.7)\n",
      "Requirement already satisfied: h11>=0.8 in /Users/shuhaibwalahi/Library/Python/3.9/lib/python/site-packages (from uvicorn==0.25.0->-r requirements.txt (line 10)) (0.14.0)\n",
      "Requirement already satisfied: attrs>=17.3.0 in /Users/shuhaibwalahi/Library/Python/3.9/lib/python/site-packages (from aiohttp<4.0.0,>=3.8.3->langchain==0.0.352->-r requirements.txt (line 7)) (23.2.0)\n",
      "Requirement already satisfied: frozenlist>=1.1.1 in /Users/shuhaibwalahi/Library/Python/3.9/lib/python/site-packages (from aiohttp<4.0.0,>=3.8.3->langchain==0.0.352->-r requirements.txt (line 7)) (1.4.1)\n",
      "Requirement already satisfied: aiosignal>=1.1.2 in /Users/shuhaibwalahi/Library/Python/3.9/lib/python/site-packages (from aiohttp<4.0.0,>=3.8.3->langchain==0.0.352->-r requirements.txt (line 7)) (1.3.1)\n",
      "Requirement already satisfied: yarl<2.0,>=1.0 in /Users/shuhaibwalahi/Library/Python/3.9/lib/python/site-packages (from aiohttp<4.0.0,>=3.8.3->langchain==0.0.352->-r requirements.txt (line 7)) (1.9.4)\n",
      "Requirement already satisfied: multidict<7.0,>=4.5 in /Users/shuhaibwalahi/Library/Python/3.9/lib/python/site-packages (from aiohttp<4.0.0,>=3.8.3->langchain==0.0.352->-r requirements.txt (line 7)) (6.0.5)\n",
      "Requirement already satisfied: exceptiongroup>=1.0.2 in /Users/shuhaibwalahi/Library/Python/3.9/lib/python/site-packages (from anyio<5,>=3.5.0->openai==1.6.0->-r requirements.txt (line 5)) (1.2.1)\n",
      "Requirement already satisfied: typing-inspect<1,>=0.4.0 in /Users/shuhaibwalahi/Library/Python/3.9/lib/python/site-packages (from dataclasses-json<0.7,>=0.5.7->langchain==0.0.352->-r requirements.txt (line 7)) (0.9.0)\n",
      "Requirement already satisfied: marshmallow<4.0.0,>=3.18.0 in /Users/shuhaibwalahi/Library/Python/3.9/lib/python/site-packages (from dataclasses-json<0.7,>=0.5.7->langchain==0.0.352->-r requirements.txt (line 7)) (3.21.2)\n",
      "Requirement already satisfied: httpcore==1.* in /Users/shuhaibwalahi/Library/Python/3.9/lib/python/site-packages (from httpx<1,>=0.23.0->openai==1.6.0->-r requirements.txt (line 5)) (1.0.5)\n",
      "Requirement already satisfied: jsonpointer>=1.9 in /Users/shuhaibwalahi/Library/Python/3.9/lib/python/site-packages (from jsonpatch<2.0,>=1.33->langchain==0.0.352->-r requirements.txt (line 7)) (2.4)\n",
      "Requirement already satisfied: packaging<24.0,>=23.2 in /Users/shuhaibwalahi/Library/Python/3.9/lib/python/site-packages (from langchain-core<0.2,>=0.1->langchain==0.0.352->-r requirements.txt (line 7)) (23.2)\n",
      "Requirement already satisfied: mypy-extensions>=0.3.0 in /Users/shuhaibwalahi/Library/Python/3.9/lib/python/site-packages (from typing-inspect<1,>=0.4.0->dataclasses-json<0.7,>=0.5.7->langchain==0.0.352->-r requirements.txt (line 7)) (1.0.0)\n",
      "\u001b[33mWARNING: You are using pip version 21.2.4; however, version 24.0 is available.\n",
      "You should consider upgrading via the '/Applications/Xcode.app/Contents/Developer/usr/bin/python3 -m pip install --upgrade pip' command.\u001b[0m\n",
      "Note: you may need to restart the kernel to use updated packages.\n"
     ]
    }
   ],
   "source": [
    "pip install -r requirements.txt"
   ]
  },
  {
   "cell_type": "code",
   "execution_count": null,
   "metadata": {},
   "outputs": [],
   "source": []
  },
  {
   "cell_type": "code",
   "execution_count": null,
   "metadata": {},
   "outputs": [],
   "source": []
  },
  {
   "cell_type": "code",
   "execution_count": 2,
   "metadata": {},
   "outputs": [
    {
     "name": "stdout",
     "output_type": "stream",
     "text": [
      "Defaulting to user installation because normal site-packages is not writeable\n",
      "Requirement already satisfied: openai in /Users/shuhaibwalahi/Library/Python/3.9/lib/python/site-packages (1.6.0)\n",
      "Requirement already satisfied: distro<2,>=1.7.0 in /Users/shuhaibwalahi/Library/Python/3.9/lib/python/site-packages (from openai) (1.9.0)\n",
      "Requirement already satisfied: anyio<5,>=3.5.0 in /Users/shuhaibwalahi/Library/Python/3.9/lib/python/site-packages (from openai) (4.3.0)\n",
      "Requirement already satisfied: sniffio in /Users/shuhaibwalahi/Library/Python/3.9/lib/python/site-packages (from openai) (1.3.1)\n",
      "Requirement already satisfied: httpx<1,>=0.23.0 in /Users/shuhaibwalahi/Library/Python/3.9/lib/python/site-packages (from openai) (0.27.0)\n",
      "Requirement already satisfied: pydantic<3,>=1.9.0 in /Users/shuhaibwalahi/Library/Python/3.9/lib/python/site-packages (from openai) (2.5.2)\n",
      "Requirement already satisfied: tqdm>4 in /Users/shuhaibwalahi/Library/Python/3.9/lib/python/site-packages (from openai) (4.66.4)\n",
      "Requirement already satisfied: typing-extensions<5,>=4.7 in /Users/shuhaibwalahi/Library/Python/3.9/lib/python/site-packages (from openai) (4.11.0)\n",
      "Requirement already satisfied: exceptiongroup>=1.0.2 in /Users/shuhaibwalahi/Library/Python/3.9/lib/python/site-packages (from anyio<5,>=3.5.0->openai) (1.2.1)\n",
      "Requirement already satisfied: idna>=2.8 in /Users/shuhaibwalahi/Library/Python/3.9/lib/python/site-packages (from anyio<5,>=3.5.0->openai) (3.7)\n",
      "Requirement already satisfied: httpcore==1.* in /Users/shuhaibwalahi/Library/Python/3.9/lib/python/site-packages (from httpx<1,>=0.23.0->openai) (1.0.5)\n",
      "Requirement already satisfied: certifi in /Users/shuhaibwalahi/Library/Python/3.9/lib/python/site-packages (from httpx<1,>=0.23.0->openai) (2024.2.2)\n",
      "Requirement already satisfied: h11<0.15,>=0.13 in /Users/shuhaibwalahi/Library/Python/3.9/lib/python/site-packages (from httpcore==1.*->httpx<1,>=0.23.0->openai) (0.14.0)\n",
      "Requirement already satisfied: pydantic-core==2.14.5 in /Users/shuhaibwalahi/Library/Python/3.9/lib/python/site-packages (from pydantic<3,>=1.9.0->openai) (2.14.5)\n",
      "Requirement already satisfied: annotated-types>=0.4.0 in /Users/shuhaibwalahi/Library/Python/3.9/lib/python/site-packages (from pydantic<3,>=1.9.0->openai) (0.7.0)\n",
      "\u001b[33mWARNING: You are using pip version 21.2.4; however, version 24.0 is available.\n",
      "You should consider upgrading via the '/Applications/Xcode.app/Contents/Developer/usr/bin/python3 -m pip install --upgrade pip' command.\u001b[0m\n",
      "Note: you may need to restart the kernel to use updated packages.\n"
     ]
    }
   ],
   "source": [
    "  pip install openai"
   ]
  },
  {
   "cell_type": "markdown",
   "metadata": {},
   "source": [
    "When using the OpenAI client library, the Azure OpenAI `key` and `endpoint` for the service are needed. In this case, ensure the Azure OpenAI `key` and `endpoint` is located in a `.env` file in the root of this project, you will need to create this file. The `.env` file should contain the following values (replace the value with your own `key` and `endpoint`):\n",
    "\n",
    "AOAI_ENDPOINT = \"https://<resource>.openai.azure.com/\"\n",
    "\n",
    "AOAI_KEY = \"<key>\"\n"
   ]
  },
  {
   "cell_type": "markdown",
   "metadata": {},
   "source": [
    "The following imports are neded in python so the app can use the OpenAI library, as well as `os` to access the environment variables, and `dotenv` is used here to load environment variables from the `.env` file."
   ]
  },
  {
   "cell_type": "code",
   "execution_count": 3,
   "metadata": {},
   "outputs": [
    {
     "data": {
      "text/plain": [
       "True"
      ]
     },
     "execution_count": 3,
     "metadata": {},
     "output_type": "execute_result"
    }
   ],
   "source": [
    "import os\n",
    "from openai import AzureOpenAI\n",
    "from dotenv import load_dotenv\n",
    "\n",
    "load_dotenv()"
   ]
  },
  {
   "cell_type": "markdown",
   "metadata": {},
   "source": [
    "## Chat completions\n",
    "\n",
    "Create the Azure OpenAi client to call the Azure OpenAI **Chat completion** API: "
   ]
  },
  {
   "cell_type": "code",
   "execution_count": 4,
   "metadata": {},
   "outputs": [],
   "source": [
    "chatClient = AzureOpenAI(\n",
    "  azure_endpoint=os.getenv(\"AOAI_ENDPOINT\"), \n",
    "  api_key=os.getenv(\"AOAI_KEY\"),  \n",
    "  api_version=\"2023-05-15\"\n",
    ")"
   ]
  },
  {
   "cell_type": "markdown",
   "metadata": {},
   "source": [
    "> **Note**: The `api_version` is included to specify the API version for calls to the Azure OpenAI service."
   ]
  },
  {
   "cell_type": "markdown",
   "metadata": {},
   "source": [
    "Once the Azure OpenAI client to be used for **Chat completion** has been created, the next step is to call the `.chat.completions.create()` method on the client to perform a chat completion."
   ]
  },
  {
   "cell_type": "code",
   "execution_count": 5,
   "metadata": {},
   "outputs": [
    {
     "name": "stdout",
     "output_type": "stream",
     "text": [
      "Of course, I'd be happy to help. \n",
      "\n",
      "Firstly, let's figure out what type of cycling you're going to mostly do. Are you planning to ride in the city, off-road, or long-distance? \n",
      "\n",
      "Are you looking for a comfortable, casual riding experience or something more sporty and fast?\n",
      "\n",
      "Also, it would be helpful if you could tell me about your height and weight, as these factors can influence the size and type of bicycle that would best suit you.\n"
     ]
    }
   ],
   "source": [
    "chatResponse = chatClient.chat.completions.create(\n",
    "    model=\"gpt-4\",\n",
    "    messages=[\n",
    "        {\"role\": \"system\", \"content\": \"You are a helpful, fun and friendly sales assistant for Cosmic Works, a bicycle and bicycle accessories store.\"},\n",
    "        {\"role\": \"user\", \"content\": \"Do you sell bicycles?\"},\n",
    "        {\"role\": \"assistant\", \"content\": \"Yes, we do sell bicycles. What kind of bicycle are you looking for?\"},\n",
    "        {\"role\": \"user\", \"content\": \"I'm not sure what I'm looking for. Could you help me decide?\"}\n",
    "    ]\n",
    ")\n",
    "\n",
    "print(chatResponse.choices[0].message.content)"
   ]
  },
  {
   "cell_type": "markdown",
   "metadata": {},
   "source": [
    "> **Note**: The [`openai` Python library documentation](https://platform.openai.com/docs/guides/text-generation/chat-completions-api) has further information on making Chat Completion calls to the service."
   ]
  }
 ],
 "metadata": {
  "kernelspec": {
   "display_name": "Python 3",
   "language": "python",
   "name": "python3"
  },
  "language_info": {
   "codemirror_mode": {
    "name": "ipython",
    "version": 3
   },
   "file_extension": ".py",
   "mimetype": "text/x-python",
   "name": "python",
   "nbconvert_exporter": "python",
   "pygments_lexer": "ipython3",
   "version": "3.9.6"
  }
 },
 "nbformat": 4,
 "nbformat_minor": 2
}
